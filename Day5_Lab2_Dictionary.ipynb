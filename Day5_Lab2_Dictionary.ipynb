{
  "nbformat": 4,
  "nbformat_minor": 0,
  "metadata": {
    "colab": {
      "provenance": []
    },
    "kernelspec": {
      "name": "python3",
      "display_name": "Python 3"
    },
    "language_info": {
      "name": "python"
    }
  },
  "cells": [
    {
      "cell_type": "code",
      "source": [
        "\n",
        "\n",
        "def search_name(number,lst):\n",
        "  while(True):\n",
        "    if isnumeric(number)!= True:\n",
        "      print(\"This is invalid number\")\n",
        "      continue\n",
        "    if len(number)<10 or len(number)>10:\n",
        "       print(\"This is invalid number\")\n",
        "       continue\n",
        "    for n,num in lst :\n",
        "        if number==num:\n",
        "           print(n)\n",
        "           break\n",
        "        else:\n",
        "          print(\"Sorry, the number is not found\")\n",
        "   \n",
        " \n",
        "lst=[(\"amal\",1111111111),\n",
        "\t   (\"mohammed\",2222222222),\n",
        "     (\"Khadijah\",3333333333),\n",
        "     (\"abdullah\",4444444444),\n",
        "    (\"rawan\",5555555555),\n",
        "    (\"faisal\",6666666666),\n",
        "    (\"layla\",7777777777)]\n",
        "\n",
        "number = input('enter the number: \\n')\n",
        "search_name(number,lst)"
      ],
      "metadata": {
        "id": "nyxZNFgxAl89"
      },
      "execution_count": null,
      "outputs": []
    }
  ]
}